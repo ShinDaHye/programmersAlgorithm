{
 "cells": [
  {
   "cell_type": "code",
   "execution_count": 1,
   "metadata": {},
   "outputs": [
    {
     "data": {
      "text/plain": [
       "[3, 3]"
      ]
     },
     "execution_count": 1,
     "metadata": {},
     "output_type": "execute_result"
    }
   ],
   "source": [
    "import math\n",
    "#영어 끝말잇기\n",
    "words=[\"tank\",\"kick\",\"know\",\"wheel\",\"land\",\"dream\",\"mother\",\"robot\",\"tank\"]\n",
    "#words=[\"hello\", \"observe\", \"effect\", \"take\", \"either\", \"recognize\", \"encourage\", \"ensure\", \"establish\", \"hang\", \"gather\", \"refer\", \"reference\", \"estimate\", \"executive\"]\n",
    "#words=[\"hello\",\"one\",\"even\",\"never\",\"now\",\"world\",\"draw\",\"white\"]\n",
    "n = 3\n",
    "def solution(n, words):\n",
    "    word=[]\n",
    "    newwords=[]\n",
    "    for i in range(n):\n",
    "        word.append([])\n",
    "    for i in range(len(words)):\n",
    "        new = words[i]\n",
    "        word[i%n].insert(0,new)\n",
    "    total = len(word[0])*n\n",
    "    newwords.append(word[0].pop())\n",
    "    for i in range(1,total):\n",
    "        m = i%n\n",
    "        new=word[m].pop()\n",
    "        if(new in newwords):\n",
    "            return([m+1, (len(newwords)//n)+1])\n",
    "            break\n",
    "        else:\n",
    "            if new[0] != newwords[-1][-1] :\n",
    "                return([m+1, (len(newwords)//n)+1])\n",
    "                break\n",
    "            else:\n",
    "                newwords.append(new)\n",
    "    return([0,0])       \n",
    "\n",
    "solution(n, words)"
   ]
  },
  {
   "cell_type": "code",
   "execution_count": null,
   "metadata": {},
   "outputs": [],
   "source": [
    "#올바른 괄호 찾기\n",
    "s=\"(()(\"\n",
    "answer=True\n",
    "string = []\n",
    "for element in s:\n",
    "    if element == \"(\":\n",
    "         string.append(element)\n",
    "    else:\n",
    "        try:\n",
    "            check = string.pop()\n",
    "        except:\n",
    "            answer=False\n",
    "            break\n",
    "if string == []:\n",
    "    print(answer)\n",
    "else:\n",
    "    print(not answer)"
   ]
  },
  {
   "cell_type": "code",
   "execution_count": 9,
   "metadata": {},
   "outputs": [
    {
     "name": "stdout",
     "output_type": "stream",
     "text": [
      "1\n",
      "[3, 2, 2, 1] [2, 3, 0, 1]\n"
     ]
    }
   ],
   "source": [
    "#프린터\n",
    "priorities=[2,1,3,2]\n",
    "prior=[]\n",
    "location = 2\n",
    "index=[]\n",
    "print_idx = []\n",
    "for i in range(len(priorities),0,-1):\n",
    "    index.append(i-1)\n",
    "    prior.append(priorities.pop())\n",
    "while prior!=[]:\n",
    "    check=prior.pop()\n",
    "    idx = index.pop()\n",
    "    max_e = check\n",
    "    for element in prior:\n",
    "        if check < element:\n",
    "            max_e = element\n",
    "    if max_e == check:\n",
    "        priorities.append(check)\n",
    "        print_idx.append(idx)\n",
    "    else:\n",
    "        prior.insert(0,check)\n",
    "        index.insert(0,idx)\n",
    "print(print_idx.index(location)+1)\n",
    "print(priorities, print_idx)"
   ]
  },
  {
   "cell_type": "code",
   "execution_count": 4,
   "metadata": {},
   "outputs": [
    {
     "name": "stdout",
     "output_type": "stream",
     "text": [
      "[9, 3, 7]\n"
     ]
    }
   ],
   "source": [
    "progresses = [93,30,55]\n",
    "speeds = [1,30,5]\n",
    "releasecount = []\n",
    "day = []\n",
    "for i in range(len(progresses)):\n",
    "    count = 0\n",
    "    while progresses[i] < 100:\n",
    "        progresses[i] += speeds[i]\n",
    "        count+=1\n",
    "    day.insert(0,count)\n",
    "print(day)\n",
    "day.pop()\n"
   ]
  }
 ],
 "metadata": {
  "kernelspec": {
   "display_name": "Python 3",
   "language": "python",
   "name": "python3"
  },
  "language_info": {
   "codemirror_mode": {
    "name": "ipython",
    "version": 3
   },
   "file_extension": ".py",
   "mimetype": "text/x-python",
   "name": "python",
   "nbconvert_exporter": "python",
   "pygments_lexer": "ipython3",
   "version": "3.7.0"
  }
 },
 "nbformat": 4,
 "nbformat_minor": 2
}
