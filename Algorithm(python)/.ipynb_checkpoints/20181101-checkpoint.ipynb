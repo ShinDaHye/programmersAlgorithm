{
 "cells": [
  {
   "cell_type": "code",
   "execution_count": null,
   "metadata": {},
   "outputs": [],
   "source": [
    "#level2 주식가격\n",
    "prices = [498, 501, 470, 489]\n",
    "answer = []\n",
    "for i in range(len(prices)):\n",
    "    count = 0\n",
    "    for j in range(i,len(prices)):\n",
    "        if(prices[i]>prices[j]):\n",
    "            count = j - i\n",
    "            break\n",
    "    if count == 0:\n",
    "        count = len(prices)-1 - i\n",
    "    answer.append(count)        \n",
    "print(answer)"
   ]
  },
  {
   "cell_type": "code",
   "execution_count": null,
   "metadata": {},
   "outputs": [],
   "source": [
    "#level2 탑\n",
    "answer = []\n",
    "heights=[1,5,3,6,7,6,5]\n",
    "for i in range(len(heights),0,-1):\n",
    "    c = 0\n",
    "    for j in range(i,0,-1):\n",
    "        if heights[i-1] < heights[j-1]:\n",
    "            c = j\n",
    "            break\n",
    "    answer.insert(0,c)\n",
    "print(answer)"
   ]
  },
  {
   "cell_type": "code",
   "execution_count": null,
   "metadata": {},
   "outputs": [],
   "source": [
    "#예상 대진표\n",
    "n = 8\n",
    "a = 4\n",
    "b = 7\n",
    "A = min(a,b)\n",
    "B = max(a,b)\n",
    "while(A+1 != B):\n",
    "    if A%2 != 0 and B%2 != 0:\n",
    "        A = A//2+1\n",
    "        B = B//2+1\n",
    "    elif A%2 == 0 and B%2 != 0:\n",
    "        A = A//2\n",
    "        B = B//2+1\n",
    "    elif A%2 !=0 and B%2 ==0:\n",
    "        A = A//2+1\n",
    "        B = B//2\n",
    "    elif A%2 ==0 and B%2 ==0:\n",
    "        A = A//2\n",
    "        B = B//2\n",
    "print (A,B)\n",
    "    "
   ]
  },
  {
   "cell_type": "code",
   "execution_count": null,
   "metadata": {},
   "outputs": [],
   "source": [
    "bbb = 7 / 4\n",
    "print (bbb)"
   ]
  },
  {
   "cell_type": "code",
   "execution_count": null,
   "metadata": {},
   "outputs": [],
   "source": []
  }
 ],
 "metadata": {
  "kernelspec": {
   "display_name": "Python 3",
   "language": "python",
   "name": "python3"
  },
  "language_info": {
   "codemirror_mode": {
    "name": "ipython",
    "version": 3
   },
   "file_extension": ".py",
   "mimetype": "text/x-python",
   "name": "python",
   "nbconvert_exporter": "python",
   "pygments_lexer": "ipython3",
   "version": "3.7.0"
  }
 },
 "nbformat": 4,
 "nbformat_minor": 2
}
