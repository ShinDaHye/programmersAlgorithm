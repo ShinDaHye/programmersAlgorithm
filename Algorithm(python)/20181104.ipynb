{
 "cells": [
  {
   "cell_type": "code",
   "execution_count": 32,
   "metadata": {},
   "outputs": [
    {
     "name": "stdout",
     "output_type": "stream",
     "text": [
      "[] 3\n"
     ]
    }
   ],
   "source": [
    "#level2 더 맵게\n",
    "scoville = [1,2,3,9,10,12]\n",
    "k=12\n",
    "answer=0\n",
    "scoville.sort()\n",
    "for element in scoville:\n",
    "    if element >= k:\n",
    "        rst1 = element\n",
    "        break\n",
    "idx= scoville.index(rst1) # 스코빌지수보다 처음으로 큰 수의 인덱스\n",
    "k_small = scoville[:idx]\n",
    "while k_small != [] or len(k_small)> 1:\n",
    "    new =  k_small[0] + k_small[1]*2\n",
    "    k_small.pop(0)\n",
    "    k_small.pop(0)\n",
    "    if new < k:\n",
    "        k_small.append(new)\n",
    "        k_small.sort()\n",
    "    answer+=1\n",
    "if len(k_small) == 1:\n",
    "    answer = -1\n",
    "print(k_small, answer)\n"
   ]
  },
  {
   "cell_type": "code",
   "execution_count": 45,
   "metadata": {},
   "outputs": [
    {
     "name": "stdout",
     "output_type": "stream",
     "text": [
      "['12', '12232332', '222222']\n",
      "False\n"
     ]
    }
   ],
   "source": [
    "#전화번호 목록\n",
    "#phone_book = [\"12\",\"123\",\"1235\",\"567\",\"88\"]\n",
    "phone_book = [\"12232332\", \"12\", \"222222\"]\n",
    "def solution(phone_book):\n",
    "    answer=True\n",
    "    for element in phone_book:\n",
    "        for i in range(len(phone_book)):\n",
    "            if element == phone_book[i]:\n",
    "                continue\n",
    "            if element == phone_book[i][:len(element)]:\n",
    "                return False\n",
    "    return (answer)"
   ]
  },
  {
   "cell_type": "code",
   "execution_count": 50,
   "metadata": {},
   "outputs": [
    {
     "name": "stdout",
     "output_type": "stream",
     "text": [
      "3\n"
     ]
    }
   ],
   "source": [
    "#H-index\n",
    "citations=[3,0,6,1,5]\n",
    "answer = 0\n",
    "citations.sort()\n",
    "n = len(citations) + 1 \n",
    "max_cit = max(citations)\n",
    "for h in range(max_cit):\n",
    "    count = 0 \n",
    "    for element in citations:\n",
    "        if element >= h:\n",
    "            count += 1\n",
    "    if count >= h:\n",
    "        answer = h\n",
    "print(answer)"
   ]
  },
  {
   "cell_type": "code",
   "execution_count": 1,
   "metadata": {},
   "outputs": [],
   "source": [
    "#스파이의 위장 not done\n",
    "import math\n",
    "clothes = [[\"yello_hat\",\"headgear\"],[\"blue_sunglasses\",\"eyewear\"],[\"green_turban\",\"headgear\"]]\n",
    "alr_check = []\n",
    "kind = []\n",
    "count = []\n",
    "for i in range(len(clothes)):\n",
    "    kind.append(clothes[i][1])\n",
    "print(kind)\n",
    "for element in kind:\n",
    "    if element not in alr_check:\n",
    "        count.append(kind.count(element))\n",
    "        alr_check.append(element)\n",
    "print(count)"
   ]
  },
  {
   "cell_type": "code",
   "execution_count": 3,
   "metadata": {},
   "outputs": [
    {
     "name": "stdout",
     "output_type": "stream",
     "text": [
      "70\n",
      "[70] [40, 40, 20, 80, 50]\n",
      "40\n",
      "[70, 40] [40, 20, 80, 50]\n",
      "80\n",
      "50\n",
      "[70, 40, 50] [40, 20, 80]\n",
      "40\n",
      "[40] [20, 80]\n",
      "80\n",
      "[40, 80] [20]\n",
      "20\n",
      "[20] []\n",
      "3\n"
     ]
    }
   ],
   "source": [
    "#구명보트 not done\n",
    "people=[70,40,40,20,80,50]\n",
    "limit=170\n",
    "answer=0\n",
    "boat = []\n",
    "while people != []:\n",
    "    for element in people:\n",
    "        print(element)\n",
    "        if sum(boat) + element <= limit:\n",
    "            boat.append(element)\n",
    "            people.remove(element)\n",
    "            print(boat, people)\n",
    "    boat=[]\n",
    "    answer+=1\n",
    "print(answer)"
   ]
  }
 ],
 "metadata": {
  "kernelspec": {
   "display_name": "Python 3",
   "language": "python",
   "name": "python3"
  },
  "language_info": {
   "codemirror_mode": {
    "name": "ipython",
    "version": 3
   },
   "file_extension": ".py",
   "mimetype": "text/x-python",
   "name": "python",
   "nbconvert_exporter": "python",
   "pygments_lexer": "ipython3",
   "version": "3.7.0"
  }
 },
 "nbformat": 4,
 "nbformat_minor": 2
}
